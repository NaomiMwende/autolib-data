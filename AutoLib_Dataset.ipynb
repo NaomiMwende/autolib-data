{
  "nbformat": 4,
  "nbformat_minor": 0,
  "metadata": {
    "colab": {
      "name": "AutoLib Dataset",
      "provenance": [],
      "collapsed_sections": [],
      "toc_visible": true,
      "include_colab_link": true
    },
    "kernelspec": {
      "display_name": "Python 3",
      "language": "python",
      "name": "python3"
    },
    "language_info": {
      "codemirror_mode": {
        "name": "ipython",
        "version": 3
      },
      "file_extension": ".py",
      "mimetype": "text/x-python",
      "name": "python",
      "nbconvert_exporter": "python",
      "pygments_lexer": "ipython3",
      "version": "3.7.6"
    }
  },
  "cells": [
    {
      "cell_type": "markdown",
      "metadata": {
        "id": "view-in-github",
        "colab_type": "text"
      },
      "source": [
        "<a href=\"https://colab.research.google.com/github/ChrisBarsolai/autolib-data/blob/master/AutoLib_Dataset.ipynb\" target=\"_parent\"><img src=\"https://colab.research.google.com/assets/colab-badge.svg\" alt=\"Open In Colab\"/></a>"
      ]
    },
    {
      "cell_type": "markdown",
      "metadata": {
        "colab_type": "text",
        "id": "CNyMwDaIHi05"
      },
      "source": [
        "# Importing our Modules"
      ]
    },
    {
      "cell_type": "code",
      "metadata": {
        "colab_type": "code",
        "id": "HAhdB9RPJg4E",
        "colab": {}
      },
      "source": [
        "# Importing pandas\n",
        "#\n",
        "import pandas as pd"
      ],
      "execution_count": null,
      "outputs": []
    },
    {
      "cell_type": "markdown",
      "metadata": {
        "colab_type": "text",
        "id": "laGqQFJbJQv9"
      },
      "source": [
        "# Importing our CSV files and creating our dataset."
      ]
    },
    {
      "cell_type": "code",
      "metadata": {
        "colab_type": "code",
        "id": "5LfVAQh_ICEK",
        "colab": {}
      },
      "source": [
        "url = \"./dataset/autolib.csv\"\n",
        "df = pd.read_csv(url)\n",
        "df.head()"
      ],
      "execution_count": null,
      "outputs": []
    },
    {
      "cell_type": "markdown",
      "metadata": {
        "colab_type": "text",
        "id": "-sBTS-bm1Nhh"
      },
      "source": [
        "# View our data info"
      ]
    },
    {
      "cell_type": "code",
      "metadata": {
        "colab_type": "code",
        "id": "Af-1j0Jh4jR0",
        "colab": {}
      },
      "source": [
        "# Getting information from our dataset.\n",
        "#\n",
        "df.info()"
      ],
      "execution_count": null,
      "outputs": []
    },
    {
      "cell_type": "code",
      "metadata": {
        "colab_type": "code",
        "id": "_G5heXc410Hf",
        "colab": {}
      },
      "source": [
        "# Describing our data allows us to get a general overview of how the data is.\n",
        "#\n",
        "df.describe()"
      ],
      "execution_count": null,
      "outputs": []
    },
    {
      "cell_type": "markdown",
      "metadata": {
        "colab_type": "text",
        "id": "0aQm3gMqIE44"
      },
      "source": [
        "# Data Preparation/Cleaning\n"
      ]
    },
    {
      "cell_type": "markdown",
      "metadata": {
        "colab_type": "text",
        "id": "q5EhLjvnIR0X"
      },
      "source": [
        "># 1.1 Validity"
      ]
    },
    {
      "cell_type": "code",
      "metadata": {
        "colab_type": "code",
        "id": "Hs4xupTtIVaS",
        "colab": {}
      },
      "source": [
        "# Procedure 1:\n",
        "# Data Cleaning Action: Droping the irrelevant Scheduled at column\n",
        "# Explanation: We are droping it since its not useful in our analysis.\n",
        "#\n",
        "df_new = df.drop(['Scheduled at'], axis=1, inplace=True)\n",
        "df_new"
      ],
      "execution_count": null,
      "outputs": []
    },
    {
      "cell_type": "code",
      "metadata": {
        "colab_type": "code",
        "id": "NSrZ2NECCtkW",
        "colab": {}
      },
      "source": [
        "# Procedure 2:\n",
        "# Data Cleaning Action: Droping the irrelevant Subscription status at column\n",
        "# Explanation: We are droping it since its not useful in our analysis.\n",
        "#\n",
        "df_new = df.drop(['Subscription status'], axis=1, inplace=True)\n",
        "df_new"
      ],
      "execution_count": null,
      "outputs": []
    },
    {
      "cell_type": "code",
      "metadata": {
        "colab_type": "code",
        "id": "hszsM3AIDhjh",
        "colab": {}
      },
      "source": [
        "# Procedure 3:\n",
        "# Data Cleaning Action: Droping the irrelevant Subscription status at column\n",
        "# Explanation: We are droping it since its not useful in our analysis.\n",
        "#\n",
        "df_new = df.drop(['Status'], axis=1, inplace=True)\n",
        "df_new"
      ],
      "execution_count": null,
      "outputs": []
    },
    {
      "cell_type": "code",
      "metadata": {
        "colab_type": "code",
        "id": "3iBQh_Z-ETyU",
        "colab": {}
      },
      "source": [
        "# Procedure 3:\n",
        "# Data Cleaning Action: Droping the Displayed comment column\n",
        "# Explanation: We are droping it since its not useful in our analysis.\n",
        "#\n",
        "df_new = df.drop(['Displayed comment'], axis=1, inplace=True)\n",
        "df_new"
      ],
      "execution_count": null,
      "outputs": []
    },
    {
      "cell_type": "markdown",
      "metadata": {
        "colab_type": "text",
        "id": "t1gd9O3wyroJ"
      },
      "source": [
        "># 1.2 Accuracy"
      ]
    },
    {
      "cell_type": "code",
      "metadata": {
        "colab_type": "code",
        "id": "S9_f1h1hy2pA",
        "colab": {}
      },
      "source": [
        "# Procedure 1:\n",
        "# Data Cleaning Action: Checking for null values in our dataset.\n",
        "# Explanation: This is to allows us to determin the columns that have null values.\n",
        "# \n",
        "df_null = df.isnull().any()\n",
        "df_null"
      ],
      "execution_count": null,
      "outputs": []
    },
    {
      "cell_type": "markdown",
      "metadata": {
        "colab_type": "text",
        "id": "3wNCJxydy2-H"
      },
      "source": [
        "># 1.3 Completeness"
      ]
    },
    {
      "cell_type": "code",
      "metadata": {
        "colab_type": "code",
        "id": "VvwnN0rHy6-w",
        "colab": {}
      },
      "source": [
        "# Procedure 1:\n",
        "# Data Cleaning Action: Check for duplicate values.\n",
        "# Explanation: This is to allow us determine data that is duplicated.\n",
        "#\n",
        "df_dup = df.duplicated().sum()\n",
        "df_dup"
      ],
      "execution_count": null,
      "outputs": []
    },
    {
      "cell_type": "markdown",
      "metadata": {
        "colab_type": "text",
        "id": "A1KyBVwty7QP"
      },
      "source": [
        "># 1.4 Consistency"
      ]
    },
    {
      "cell_type": "code",
      "metadata": {
        "colab_type": "code",
        "id": "JPxKI-ZSy_ly",
        "colab": {}
      },
      "source": [
        "# Procedure 1:\n",
        "# Data Cleaning Action: Dropping null values if they exist.\n",
        "# Explanation: This is to allow us determine data that is duplicated.\n",
        "#\n",
        "df_new = df.dropna(how=\"all\")\n",
        "df_new.head()"
      ],
      "execution_count": null,
      "outputs": []
    },
    {
      "cell_type": "markdown",
      "metadata": {
        "colab_type": "text",
        "id": "tXUOUAJgy_7-"
      },
      "source": [
        "># 1.5 Uniformity"
      ]
    },
    {
      "cell_type": "code",
      "metadata": {
        "colab_type": "code",
        "id": "N8372e3FzEQS",
        "colab": {}
      },
      "source": [
        "# Procedure 1:\n",
        "# Data Cleaning Action: Converting column names to lowercase characters.\n",
        "# Explanation: This is to allow for a uniform columns in the dataframe.\n",
        "#\n",
        "df.columns = df.columns.str.rstrip().str.lower()\n",
        "df.head(3)"
      ],
      "execution_count": null,
      "outputs": []
    },
    {
      "cell_type": "code",
      "metadata": {
        "colab_type": "code",
        "id": "wkFHZgxqLtk9",
        "colab": {}
      },
      "source": [
        "# Procedure 2:\n",
        "# Data Cleaning Action: Converting row values to lowercase characters.\n",
        "# Explanation: This is to allow for rows to have uniform values which are in lowercase in the dataframe.\n",
        "#\n",
        "df = df.astype(str).apply(lambda x: x.str.lower())\n",
        "df.head(3)"
      ],
      "execution_count": null,
      "outputs": []
    },
    {
      "cell_type": "code",
      "metadata": {
        "colab_type": "code",
        "id": "z2IOK4aUdBRD",
        "colab": {}
      },
      "source": [
        "df.columns = df.columns.str.replace(\" \", \"_\", regex=True)\n",
        "df.head(2)"
      ],
      "execution_count": null,
      "outputs": []
    },
    {
      "cell_type": "code",
      "metadata": {
        "colab_type": "code",
        "id": "_mI7UZy_cZvN",
        "colab": {}
      },
      "source": [
        "# Splitting the geopoint column into two.\n",
        "#\n"
      ],
      "execution_count": null,
      "outputs": []
    },
    {
      "cell_type": "markdown",
      "metadata": {
        "colab_type": "text",
        "id": "nJmS2a6UTGvx"
      },
      "source": [
        "# Exporting our clean csv file."
      ]
    },
    {
      "cell_type": "code",
      "metadata": {
        "colab_type": "code",
        "id": "QyrY-OUYTFxc",
        "colab": {}
      },
      "source": [
        "df.to_csv(\"autolib_clean.csv\")"
      ],
      "execution_count": null,
      "outputs": []
    },
    {
      "cell_type": "markdown",
      "metadata": {
        "colab_type": "text",
        "id": "78r77EmDzFG6"
      },
      "source": [
        "# Answering Questions\n"
      ]
    },
    {
      "cell_type": "markdown",
      "metadata": {
        "colab_type": "text",
        "id": "WdveUsECWCmS"
      },
      "source": [
        "#  *Using Blue cars*"
      ]
    },
    {
      "cell_type": "markdown",
      "metadata": {
        "colab_type": "text",
        "id": "QzWGG1DpTnOz"
      },
      "source": [
        "> # *Challenge 1*\n",
        "> 1. What is the most popular hour for returning cars?"
      ]
    },
    {
      "cell_type": "code",
      "metadata": {
        "colab_type": "code",
        "id": "tEESZ6GkTmRf",
        "colab": {}
      },
      "source": [
        "# Challenge 1\n",
        "# Finding the most popular hour for returning cars?.\n",
        "#\n",
        "url = \"autolib_clean.csv\"\n",
        "df = pd.read_csv(url)\n",
        "df_x = df[[\"bluecar_counter\",\"day\", \"hour\", \"minute\"]]\n",
        "df_car = df_x[df_x[\"bluecar_counter\"] == 0]\n",
        "df_car['hour'].max()"
      ],
      "execution_count": null,
      "outputs": []
    },
    {
      "cell_type": "markdown",
      "metadata": {
        "colab_type": "text",
        "id": "dY8KVOuWsD9j"
      },
      "source": [
        "> # *Challenge 2*\n",
        ">  What station is the most popular?\n",
        "      > * Overall?"
      ]
    },
    {
      "cell_type": "code",
      "metadata": {
        "colab_type": "code",
        "id": "TgKP79Y0jp7D",
        "colab": {}
      },
      "source": [
        "# Challenge 2\n",
        "# Finding the most popular station( Overall) from our dataset.\n",
        "#\n",
        "df_p = df.groupby(['address'])['bluecar_counter'].max().sort_values(ascending=False)\n",
        "\n",
        "df_p.head(1)"
      ],
      "execution_count": null,
      "outputs": []
    },
    {
      "cell_type": "markdown",
      "metadata": {
        "colab_type": "text",
        "id": "lusd367HsIws"
      },
      "source": [
        "> # *Challenge 3*\n",
        "> 3. What station is the most popular?\n",
        "      > * At the most popular picking hour?"
      ]
    },
    {
      "cell_type": "code",
      "metadata": {
        "colab_type": "code",
        "id": "RyLaEN1ksO3X",
        "colab": {}
      },
      "source": [
        "# Challenge 3\n",
        "# Finding the most popular station (At the most popular picking hour) from our dataset.\n",
        "#\n",
        "df_p = df.groupby(['address'])['hour'].max().sort_values(ascending=False)\n",
        "\n",
        "df_p.head(1)"
      ],
      "execution_count": null,
      "outputs": []
    },
    {
      "cell_type": "markdown",
      "metadata": {
        "colab_type": "text",
        "id": "13kMiWBVOgQ5"
      },
      "source": [
        "> # *Challenge 4*\n",
        "  > 4. What postal code is the most popular for picking up Blue cars? Does the most popular station belong to that postal code?\n",
        "   > * Overall?"
      ]
    },
    {
      "cell_type": "code",
      "metadata": {
        "colab_type": "code",
        "id": "W2fdIfQXLxJ2",
        "colab": {}
      },
      "source": [
        "# Challenge 4\n",
        "# Finding the What postal code is the most popular for picking up Blue cars? \n",
        "# Does the most popular station belong to that postal code? from our dataset.\n",
        "#\n",
        "df_station = df[['address', 'postal_code', 'bluecar_counter']]\n",
        "df_postal = df_station.sort_values('bluecar_counter', ascending=False)\n",
        "df_postal.head(1)"
      ],
      "execution_count": null,
      "outputs": []
    },
    {
      "cell_type": "markdown",
      "metadata": {
        "colab_type": "text",
        "id": "OOEOEhU1Snzy"
      },
      "source": [
        " > # *Challenge 5*\n",
        "   > * At the most popular picking hour?"
      ]
    },
    {
      "cell_type": "code",
      "metadata": {
        "colab_type": "code",
        "id": "u4OrzkbRSnOz",
        "colab": {}
      },
      "source": [
        "# Challenge 5\n",
        "# Finding the What postal code is the most popular for picking up Blue cars? \n",
        "# Does the most popular station belong to that postal code? from our dataset.\n",
        "#\n",
        "df_station = df[['address', 'postal_code', 'hour']]\n",
        "df_postal = df_station.sort_values('hour', ascending=False)\n",
        "df_postal.head(1)"
      ],
      "execution_count": null,
      "outputs": []
    },
    {
      "cell_type": "markdown",
      "metadata": {
        "colab_type": "text",
        "id": "h242RgvRgDIn"
      },
      "source": [
        "> # *Challenge 6*\n",
        "> 5. Sorting the non-existent, operational and broken charging status in Descending Order.\n"
      ]
    },
    {
      "cell_type": "code",
      "metadata": {
        "colab_type": "code",
        "id": "1-h1pXLzgCUM",
        "colab": {}
      },
      "source": [
        "# Challenge 4\n",
        "# Finding the What charging status has the highest value for picking up Blue cars from our dataset.\n",
        "#\n",
        "df_city = df.groupby(['charging_status'])['bluecar_counter'].sum().sort_values(ascending=False)\n",
        "df_city.head(16)"
      ],
      "execution_count": null,
      "outputs": []
    },
    {
      "cell_type": "markdown",
      "metadata": {
        "colab_type": "text",
        "id": "U1KsVg2KU7b4"
      },
      "source": [
        "> # Using Utilib counter and Utilib 1.4 counter"
      ]
    },
    {
      "cell_type": "markdown",
      "metadata": {
        "colab_type": "text",
        "id": "9DdhMuzLV19K"
      },
      "source": [
        "> # *Challenge 1*\n",
        ">  What station is the most popular?\n",
        "      > * Overall?"
      ]
    },
    {
      "cell_type": "markdown",
      "metadata": {
        "colab_type": "text",
        "id": "hk8H4xTWaYb7"
      },
      "source": [
        "> a). utilib_counter"
      ]
    },
    {
      "cell_type": "code",
      "metadata": {
        "colab_type": "code",
        "id": "5_CrMQo3VFdH",
        "colab": {}
      },
      "source": [
        "# Challenge 1.1\n",
        "# Finding the most popular station( Overall) from our dataset.\n",
        "#\n",
        "df_p = df.groupby(['address'])['utilib_counter'].max().sort_values(ascending=False)\n",
        "df_p.head(1)"
      ],
      "execution_count": null,
      "outputs": []
    },
    {
      "cell_type": "markdown",
      "metadata": {
        "colab_type": "text",
        "id": "VPuWfD_GacT7"
      },
      "source": [
        "> b). utilib_1.4_counter"
      ]
    },
    {
      "cell_type": "code",
      "metadata": {
        "colab_type": "code",
        "id": "xFDlO06jVt6Y",
        "colab": {}
      },
      "source": [
        "# Challenge 1.2\n",
        "# Finding the most popular station( Overall) from our dataset.\n",
        "#\n",
        "df_p = df.groupby(['address'])['utilib_1.4_counter'].max().sort_values(ascending=False)\n",
        "df_p.head(1)"
      ],
      "execution_count": null,
      "outputs": []
    },
    {
      "cell_type": "markdown",
      "metadata": {
        "colab_type": "text",
        "id": "yvf7B1fmYex6"
      },
      "source": [
        "> # *Challenge 2*\n",
        "  > 2. What postal code is the most popular for picking up Utilib_counter and Utilib_1.4_counter? Does the most popular station belong to that postal code?\n",
        "   > * Overall?"
      ]
    },
    {
      "cell_type": "markdown",
      "metadata": {
        "colab_type": "text",
        "id": "k9ioLt4waqjM"
      },
      "source": [
        "> b). utilib_1.4_counter"
      ]
    },
    {
      "cell_type": "code",
      "metadata": {
        "colab_type": "code",
        "id": "J53uwL3xY_7S",
        "colab": {}
      },
      "source": [
        "# Challenge 2.1\n",
        "# Finding the What postal code is the most popular for picking up Blue cars? \n",
        "# Does the most popular station belong to that postal code? from our dataset.\n",
        "#\n",
        "df_station = df[['address', 'postal_code', 'utilib_counter']]\n",
        "df_postal = df_station.sort_values('utilib_counter', ascending=False)\n",
        "df_postal.head(1)"
      ],
      "execution_count": null,
      "outputs": []
    },
    {
      "cell_type": "markdown",
      "metadata": {
        "colab_type": "text",
        "id": "Sjx3mrC5asUh"
      },
      "source": [
        "> b). utilib_1.4_counter"
      ]
    },
    {
      "cell_type": "code",
      "metadata": {
        "colab_type": "code",
        "id": "37EWjlcqZQQs",
        "colab": {}
      },
      "source": [
        "# Challenge 2.2\n",
        "# Finding the What postal code is the most popular for picking up Blue cars? \n",
        "# Does the most popular station belong to that postal code? from our dataset.\n",
        "#\n",
        "df_station = df[['address', 'postal_code', 'utilib_1.4_counter']]\n",
        "df_postal = df_station.sort_values('utilib_1.4_counter', ascending=False)\n",
        "df_postal.head(1)"
      ],
      "execution_count": null,
      "outputs": []
    },
    {
      "cell_type": "markdown",
      "metadata": {
        "colab_type": "text",
        "id": "DPKtssIKZx5s"
      },
      "source": [
        "> # *Challenge 3*\n",
        "> 5. Sorting the non-existent, operational and broken charging status in Descending Order.\n"
      ]
    },
    {
      "cell_type": "markdown",
      "metadata": {
        "colab_type": "text",
        "id": "4YIOhigXaubp"
      },
      "source": [
        "> b). utilib_1.4_counter"
      ]
    },
    {
      "cell_type": "code",
      "metadata": {
        "colab_type": "code",
        "id": "DmkCu9K1ZWcc",
        "colab": {}
      },
      "source": [
        "# Challenge 3.1\n",
        "# Finding the What charging status has the highest value for picking up utilib cars from our dataset.\n",
        "#\n",
        "df_city = df.groupby(['charging_status'])['utilib_counter'].sum().sort_values(ascending=False)\n",
        "df_city"
      ],
      "execution_count": null,
      "outputs": []
    },
    {
      "cell_type": "markdown",
      "metadata": {
        "colab_type": "text",
        "id": "-7Dttdtaaw_V"
      },
      "source": [
        "> b). utilib_1.4_counter"
      ]
    },
    {
      "cell_type": "code",
      "metadata": {
        "colab_type": "code",
        "id": "8FvQH8_dZ6H3",
        "colab": {}
      },
      "source": [
        "# Challenge 4\n",
        "# Finding the What charging status has the highest value for picking up Blue cars from our dataset.\n",
        "#\n",
        "df_city = df.groupby(['charging_status'])['utilib_1.4_counter'].sum().sort_values(ascending=False)\n",
        "df_city"
      ],
      "execution_count": null,
      "outputs": []
    },
    {
      "cell_type": "markdown",
      "metadata": {
        "colab_type": "text",
        "id": "vWXScqfDcE34"
      },
      "source": [
        "# Research Question"
      ]
    },
    {
      "cell_type": "markdown",
      "metadata": {
        "colab_type": "text",
        "id": "Qq_zBCyqcJY4"
      },
      "source": [
        "> * Identify the most popular hour of the day for picking up a shared electric car (Bluecar) in the city of Paris over the month of April 2018.*"
      ]
    },
    {
      "cell_type": "code",
      "metadata": {
        "colab_type": "code",
        "id": "RnZK_FidcIKz",
        "colab": {}
      },
      "source": [
        "df_p = df[['city', 'bluecar_counter', 'hour']]\n",
        "df_paris = df[df['city'] == 'paris']\n",
        "df_p = df_paris.groupby(['bluecar_counter'])['hour'].max().sort_values(ascending=False)\n",
        "df_p"
      ],
      "execution_count": null,
      "outputs": []
    },
    {
      "cell_type": "code",
      "metadata": {
        "colab_type": "code",
        "id": "1QzDagYQfNyT",
        "colab": {}
      },
      "source": [
        ""
      ],
      "execution_count": null,
      "outputs": []
    }
  ]
}